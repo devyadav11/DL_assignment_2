{
  "nbformat": 4,
  "nbformat_minor": 0,
  "metadata": {
    "colab": {
      "provenance": [],
      "gpuType": "T4",
      "authorship_tag": "ABX9TyPYEMqwjuEUZ5kenKRoEZ/P",
      "include_colab_link": true
    },
    "kernelspec": {
      "name": "python3",
      "display_name": "Python 3"
    },
    "language_info": {
      "name": "python"
    },
    "accelerator": "GPU"
  },
  "cells": [
    {
      "cell_type": "markdown",
      "metadata": {
        "id": "view-in-github",
        "colab_type": "text"
      },
      "source": [
        "<a href=\"https://colab.research.google.com/github/devyadav11/DL_assignment_2/blob/main/DLAssignment_2.ipynb\" target=\"_parent\"><img src=\"https://colab.research.google.com/assets/colab-badge.svg\" alt=\"Open In Colab\"/></a>"
      ]
    },
    {
      "cell_type": "code",
      "source": [
        "import torch\n",
        "\n",
        "device = \"cuda\" if torch.cuda.is_available() else \"cpu\"\n",
        "print(\"Using device:\", device)\n",
        "print(\"GPU Name:\", torch.cuda.get_device_name(0) if torch.cuda.is_available() else \"No GPU\")"
      ],
      "metadata": {
        "id": "58_eJy67iTqu",
        "colab": {
          "base_uri": "https://localhost:8080/"
        },
        "outputId": "4754d89b-8b32-4801-ffdc-c3b772b3fbb7"
      },
      "execution_count": 1,
      "outputs": [
        {
          "output_type": "stream",
          "name": "stdout",
          "text": [
            "Using device: cuda\n",
            "GPU Name: Tesla T4\n"
          ]
        }
      ]
    },
    {
      "cell_type": "code",
      "execution_count": 2,
      "metadata": {
        "id": "ZxC9cDHLg8kR"
      },
      "outputs": [],
      "source": [
        "# !pip install opencv-python\n",
        "import torch\n",
        "from torchvision import datasets, transforms\n",
        "from torch.utils.data import DataLoader, Subset\n",
        "import numpy as np\n",
        "from sklearn.utils import shuffle # for shuffling\n",
        "import os\n",
        "import cv2\n",
        "import random\n",
        "import torch.nn as nn\n",
        "import torch.optim as optim\n",
        "from tqdm import tqdm\n",
        "import matplotlib.pyplot as plt\n",
        "from PIL import Image\n",
        "\n",
        "\n",
        "\n",
        "from sklearn.model_selection import train_test_split"
      ]
    },
    {
      "cell_type": "code",
      "source": [
        "!pip install wandb\n",
        "import wandb\n",
        "# !wandb login\n",
        "wandb.login(key=\"500727e3b54d5202c75cd3136d6326f29e89e05f\")\n",
        "\n",
        "#key = 500727e3b54d5202c75cd3136d6326f29e89e05f"
      ],
      "metadata": {
        "colab": {
          "base_uri": "https://localhost:8080/"
        },
        "id": "FaeaLTbjiSkf",
        "outputId": "54b1143a-49db-4f90-c838-a2b2280bb0ec"
      },
      "execution_count": 3,
      "outputs": [
        {
          "output_type": "stream",
          "name": "stdout",
          "text": [
            "Requirement already satisfied: wandb in /usr/local/lib/python3.11/dist-packages (0.19.9)\n",
            "Requirement already satisfied: click!=8.0.0,>=7.1 in /usr/local/lib/python3.11/dist-packages (from wandb) (8.1.8)\n",
            "Requirement already satisfied: docker-pycreds>=0.4.0 in /usr/local/lib/python3.11/dist-packages (from wandb) (0.4.0)\n",
            "Requirement already satisfied: gitpython!=3.1.29,>=1.0.0 in /usr/local/lib/python3.11/dist-packages (from wandb) (3.1.44)\n",
            "Requirement already satisfied: platformdirs in /usr/local/lib/python3.11/dist-packages (from wandb) (4.3.7)\n",
            "Requirement already satisfied: protobuf!=4.21.0,!=5.28.0,<6,>=3.19.0 in /usr/local/lib/python3.11/dist-packages (from wandb) (5.29.4)\n",
            "Requirement already satisfied: psutil>=5.0.0 in /usr/local/lib/python3.11/dist-packages (from wandb) (5.9.5)\n",
            "Requirement already satisfied: pydantic<3 in /usr/local/lib/python3.11/dist-packages (from wandb) (2.11.3)\n",
            "Requirement already satisfied: pyyaml in /usr/local/lib/python3.11/dist-packages (from wandb) (6.0.2)\n",
            "Requirement already satisfied: requests<3,>=2.0.0 in /usr/local/lib/python3.11/dist-packages (from wandb) (2.32.3)\n",
            "Requirement already satisfied: sentry-sdk>=2.0.0 in /usr/local/lib/python3.11/dist-packages (from wandb) (2.26.1)\n",
            "Requirement already satisfied: setproctitle in /usr/local/lib/python3.11/dist-packages (from wandb) (1.3.5)\n",
            "Requirement already satisfied: setuptools in /usr/local/lib/python3.11/dist-packages (from wandb) (75.2.0)\n",
            "Requirement already satisfied: typing-extensions<5,>=4.4 in /usr/local/lib/python3.11/dist-packages (from wandb) (4.13.2)\n",
            "Requirement already satisfied: six>=1.4.0 in /usr/local/lib/python3.11/dist-packages (from docker-pycreds>=0.4.0->wandb) (1.17.0)\n",
            "Requirement already satisfied: gitdb<5,>=4.0.1 in /usr/local/lib/python3.11/dist-packages (from gitpython!=3.1.29,>=1.0.0->wandb) (4.0.12)\n",
            "Requirement already satisfied: annotated-types>=0.6.0 in /usr/local/lib/python3.11/dist-packages (from pydantic<3->wandb) (0.7.0)\n",
            "Requirement already satisfied: pydantic-core==2.33.1 in /usr/local/lib/python3.11/dist-packages (from pydantic<3->wandb) (2.33.1)\n",
            "Requirement already satisfied: typing-inspection>=0.4.0 in /usr/local/lib/python3.11/dist-packages (from pydantic<3->wandb) (0.4.0)\n",
            "Requirement already satisfied: charset-normalizer<4,>=2 in /usr/local/lib/python3.11/dist-packages (from requests<3,>=2.0.0->wandb) (3.4.1)\n",
            "Requirement already satisfied: idna<4,>=2.5 in /usr/local/lib/python3.11/dist-packages (from requests<3,>=2.0.0->wandb) (3.10)\n",
            "Requirement already satisfied: urllib3<3,>=1.21.1 in /usr/local/lib/python3.11/dist-packages (from requests<3,>=2.0.0->wandb) (2.3.0)\n",
            "Requirement already satisfied: certifi>=2017.4.17 in /usr/local/lib/python3.11/dist-packages (from requests<3,>=2.0.0->wandb) (2025.1.31)\n",
            "Requirement already satisfied: smmap<6,>=3.0.1 in /usr/local/lib/python3.11/dist-packages (from gitdb<5,>=4.0.1->gitpython!=3.1.29,>=1.0.0->wandb) (5.0.2)\n"
          ]
        },
        {
          "output_type": "stream",
          "name": "stderr",
          "text": [
            "\u001b[34m\u001b[1mwandb\u001b[0m: Using wandb-core as the SDK backend.  Please refer to https://wandb.me/wandb-core for more information.\n",
            "\u001b[34m\u001b[1mwandb\u001b[0m: \u001b[33mWARNING\u001b[0m If you're specifying your api key in code, ensure this code is not shared publicly.\n",
            "\u001b[34m\u001b[1mwandb\u001b[0m: \u001b[33mWARNING\u001b[0m Consider setting the WANDB_API_KEY environment variable, or running `wandb login` from the command line.\n",
            "\u001b[34m\u001b[1mwandb\u001b[0m: No netrc file found, creating one.\n",
            "\u001b[34m\u001b[1mwandb\u001b[0m: Appending key for api.wandb.ai to your netrc file: /root/.netrc\n",
            "\u001b[34m\u001b[1mwandb\u001b[0m: Currently logged in as: \u001b[33mee23m074\u001b[0m (\u001b[33mdevyadav11\u001b[0m) to \u001b[32mhttps://api.wandb.ai\u001b[0m. Use \u001b[1m`wandb login --relogin`\u001b[0m to force relogin\n"
          ]
        },
        {
          "output_type": "execute_result",
          "data": {
            "text/plain": [
              "True"
            ]
          },
          "metadata": {},
          "execution_count": 3
        }
      ]
    },
    {
      "cell_type": "code",
      "source": [
        " !wget https://storage.googleapis.com/wandb_datasets/nature_12K.zip -O nature_12K.zip\n"
      ],
      "metadata": {
        "colab": {
          "base_uri": "https://localhost:8080/"
        },
        "id": "tEWzL9rAn3od",
        "outputId": "17ab9189-82aa-4a1c-fd30-0dd08aa87dd5"
      },
      "execution_count": 4,
      "outputs": [
        {
          "output_type": "stream",
          "name": "stdout",
          "text": [
            "--2025-04-21 11:29:06--  https://storage.googleapis.com/wandb_datasets/nature_12K.zip\n",
            "Resolving storage.googleapis.com (storage.googleapis.com)... 74.125.142.207, 74.125.195.207, 172.253.117.207, ...\n",
            "Connecting to storage.googleapis.com (storage.googleapis.com)|74.125.142.207|:443... connected.\n",
            "HTTP request sent, awaiting response... 200 OK\n",
            "Length: 3816687935 (3.6G) [application/zip]\n",
            "Saving to: ‘nature_12K.zip’\n",
            "\n",
            "nature_12K.zip      100%[===================>]   3.55G  6.18MB/s    in 45s     \n",
            "\n",
            "2025-04-21 11:29:51 (80.1 MB/s) - ‘nature_12K.zip’ saved [3816687935/3816687935]\n",
            "\n"
          ]
        }
      ]
    },
    {
      "cell_type": "code",
      "source": [
        " !unzip -q nature_12K.zip"
      ],
      "metadata": {
        "id": "zwjjmnMmQavt"
      },
      "execution_count": 5,
      "outputs": []
    },
    {
      "cell_type": "code",
      "source": [
        " !rm nature_12K.zip"
      ],
      "metadata": {
        "id": "WGPZKCbEQe99"
      },
      "execution_count": 6,
      "outputs": []
    },
    {
      "cell_type": "code",
      "source": [],
      "metadata": {
        "id": "ZAYH2De_Qlad"
      },
      "execution_count": null,
      "outputs": []
    },
    {
      "cell_type": "code",
      "source": [
        "# dataset_path = \"/content/inaturalist_12K\""
      ],
      "metadata": {
        "id": "qKNXSulPUFn1"
      },
      "execution_count": null,
      "outputs": []
    },
    {
      "cell_type": "code",
      "source": [
        "image_hight = 256\n",
        "image_width = 256"
      ],
      "metadata": {
        "id": "hFHq27USXd56"
      },
      "execution_count": 8,
      "outputs": []
    },
    {
      "cell_type": "code",
      "source": [
        "def load_data(batchSize):\n",
        "  transform_data = transforms.Compose([ transforms.Resize((image_hight, image_width)), transforms.ToTensor(), transforms.Normalize((0.5,0.5,0.5), (0.5,0.5,0.5)) ])   # normalise = output = (input - mean) / std ) (convert to (-1 to 1)\n",
        "\n",
        "  train_data = datasets.ImageFolder(root = \"/content/inaturalist_12K/train\", transform=transform_data)\n",
        "\n",
        "  class_index = train_data.class_to_idx\n",
        "\n",
        "  training_idx = []\n",
        "  val_idx  = []\n",
        "\n",
        "  for train_class, train_index in class_index.items():\n",
        "    index = []\n",
        "    for k, (img_path, lable) in enumerate(train_data.samples):\n",
        "      if lable == train_index:\n",
        "        index.append(k)\n",
        "\n",
        "\n",
        "    train_indices, val_indices = train_test_split(index, test_size=0.2, random_state=42)\n",
        "    training_idx.extend(train_indices)           # extend creates a single flat list\n",
        "    val_idx.extend(val_indices)\n",
        "\n",
        "  training_data = Subset(train_data, training_idx)\n",
        "  val_data = Subset(train_data, val_idx)\n",
        "\n",
        "\n",
        "\n",
        "\n",
        "  train_loader = DataLoader(training_data, batch_size=batchSize, shuffle=True, pin_memory= True )\n",
        "  val_loader = DataLoader(val_data, batch_size=batchSize, shuffle=True, pin_memory= True)\n",
        "\n",
        "  test_data = datasets.ImageFolder(root = \"/content/inaturalist_12K/val\", transform=transform_data)\n",
        "  test_laoder = DataLoader(test_data, batch_size=batchSize, shuffle=True, pin_memory= True)\n",
        "\n",
        "\n",
        "\n",
        "  return train_loader, val_loader, test_laoder\n",
        "\n",
        "\n",
        "\n",
        "\n",
        "\n",
        "\n",
        "\n",
        "\n",
        "\n",
        "\n",
        "\n",
        "\n",
        "\n",
        "\n",
        "\n",
        "\n",
        "\n",
        "\n",
        "\n",
        "\n",
        "\n",
        "\n",
        "  #return  class_index\n",
        "\n",
        "\n"
      ],
      "metadata": {
        "id": "Rq_0jRlJjYfG"
      },
      "execution_count": 7,
      "outputs": []
    },
    {
      "cell_type": "code",
      "source": [
        "def find_accuracy(model, criterion, dataLoader, dataName):\n",
        "    model.eval()\n",
        "    val_loss = 0.0\n",
        "    correct = 0\n",
        "    total = 0\n",
        "\n",
        "    with torch.no_grad():\n",
        "        for inputs, labels in dataLoader:\n",
        "            inputs, labels = inputs.to(device), labels.to(device)\n",
        "            outputs = model(inputs)\n",
        "            loss = criterion(outputs, labels)\n",
        "\n",
        "            val_loss += loss.item()\n",
        "            _, predicted = outputs.max(1)\n",
        "            total += labels.size(0)\n",
        "            correct += predicted.eq(labels).sum().item()\n",
        "\n",
        "    print(f'{dataName} Loss: {val_loss/len(dataLoader)},'\n",
        "          f'{dataName} Accuracy: {100*correct/total}%\\n')\n",
        "\n",
        "    #wandb.log({f'{dataName}_accuracy': 100*correct/total})\n",
        "    #wandb.log({f'{dataName}_loss': val_loss/len(dataLoader)})"
      ],
      "metadata": {
        "id": "OxhUdG2miwCx"
      },
      "execution_count": 9,
      "outputs": []
    },
    {
      "cell_type": "code",
      "source": [],
      "metadata": {
        "id": "FN3CvdV3sMkD"
      },
      "execution_count": null,
      "outputs": []
    },
    {
      "cell_type": "code",
      "source": [
        "class ConvNN(nn.Module):\n",
        "  def __init__(self, num_filters, size_filter, activation_fxn, num_neurons_dense, batch_norm, dropout_prob ):\n",
        "    super(ConvNN, self).__init__()\n",
        "\n",
        "    layers = []\n",
        "\n",
        "    for i in range(len(num_filters)):\n",
        "      if i == 0:\n",
        "        layers.append(nn.Conv2d(in_channels=3, out_channels=num_filters[i], kernel_size=size_filter[i], stride=1, padding=0))\n",
        "        layers.append(activation_fxn)\n",
        "        layers.append(nn.MaxPool2d(kernel_size=2, stride=2))\n",
        "        if batch_norm == 'true':\n",
        "          layers.append(nn.BatchNorm2d(num_features=num_filters[i]))\n",
        "      else:\n",
        "        layers.append(nn.Conv2d(in_channels=num_filters[i-1], out_channels=num_filters[i], kernel_size=size_filter[i], stride = 1, padding = 0))\n",
        "        layers.append(activation_fxn)\n",
        "        layers.append(nn.MaxPool2d(kernel_size=2, stride=2))\n",
        "        if batch_norm == 'true':\n",
        "          layers.append(nn.BatchNorm2d(num_features=num_filters[i]))\n",
        "\n",
        "      self.conv_stack = nn.Sequential(*layers)\n",
        "      flattened_tensor = torch.flatten(self.conv_stack(torch.zeros(1, 3, image_hight, image_width)))\n",
        "      dim_lastConv = flattened_tensor.shape[-1]\n",
        "      self.flattened = nn.Flatten()\n",
        "      self.dense_layer = nn.Linear(in_features=dim_lastConv, out_features=num_neurons_dense)\n",
        "      self.dropout = nn.Dropout(dropout_prob)\n",
        "      self.output_layer = nn.Linear(in_features=num_neurons_dense, out_features=10)\n",
        "\n",
        "  def forward(self, x):\n",
        "    x = self.conv_stack(x)\n",
        "    x = self.flattened(x)\n",
        "    x = self.dense_layer(x)\n",
        "    x = self.dropout(x)\n",
        "    x = self.output_layer(x)\n",
        "\n",
        "    return x\n",
        "\n",
        "\n",
        "\n",
        "def modal_training(optimiser_fn, num_epochs, batch_size, num_filters, size_filter,\n",
        "                   activation_fxn, num_neurons_dense, batch_norm, dropout_prob, weight_decay, learning_rate):\n",
        "\n",
        "\n",
        "\n",
        "\n",
        "\n",
        "  train_loader, val_loader, test_loader = load_data(batch_size)\n",
        "\n",
        "  if activation_fxn == \"relu\":\n",
        "    activation_fxn = nn.ReLU()\n",
        "  elif activation_fxn == \"selu\":\n",
        "    activation_fxn = nn.SELU()\n",
        "  elif activation_fxn == \"elu\":\n",
        "    activation_fxn = nn.ELU()\n",
        "  else:\n",
        "    activation_fxn = nn.Sigmoid()\n",
        "\n",
        "\n",
        "\n",
        "  model = ConvNN(num_filters, size_filter, activation_fxn, num_neurons_dense, batch_norm, dropout_prob)\n",
        "\n",
        "  criterion = nn.CrossEntropyLoss()\n",
        "\n",
        "  if optimiser_fn == \"adam\":\n",
        "    optimizer = optim.Adam(model.parameters(), lr=learning_rate, weight_decay=weight_decay)\n",
        "  elif optimiser_fn == \"nadam\":\n",
        "    optimizer = optim.NAdam(model.parameters(), lr=learning_rate, weight_decay=weight_decay)\n",
        "  elif optimiser_fn == \"rmsprop\":\n",
        "    optimizer = optim.RMSprop(model.parameters(), lr=learning_rate, weight_decay=weight_decay)\n",
        "  else:\n",
        " # stocastic gradient decent\n",
        "    optimizer = optim.SGD(model.parameters(), lr=learning_rate, weight_decay=weight_decay)\n",
        "\n",
        "\n",
        "\n",
        "\n",
        "  model = torch.nn.DataParallel(model,device_ids = [0]).to(device)\n",
        "\n",
        "  for epoch in range(num_epochs):\n",
        "    model.train()\n",
        "\n",
        "    for index, (inputs, labels) in enumerate(tqdm(train_loader, desc=f'Training Progress {epoch+1}')):\n",
        "      inputs, labels = inputs.to(device), labels.to(device)                        # keeps input and lables run on same GPU, or CPU if u choose multiple devices\n",
        "      optimizer.zero_grad()                                                        # set gradients to zero\n",
        "      outputs = model(inputs)                                                      # forward pass\n",
        "      loss = criterion(outputs, labels)                                            # calculate loss\n",
        "      loss.backward()                                                              # backward pass\n",
        "      optimizer.step()                                                             # updates the parameters after back prop\n",
        "\n",
        "\n",
        "    find_accuracy(model, criterion, train_loader, \"train\")\n",
        "    find_accuracy(model, criterion, val_loader, \"validation\")\n",
        "\n",
        "\n",
        "  return model\n",
        "\n",
        "\n",
        "\n",
        "\n",
        "\n",
        "\n",
        "\n",
        "\n",
        "\n",
        "\n",
        "\n",
        "\n",
        "\n"
      ],
      "metadata": {
        "id": "ocq5I2j3ZxgK"
      },
      "execution_count": 10,
      "outputs": []
    },
    {
      "cell_type": "code",
      "source": [],
      "metadata": {
        "id": "oNDlJ7yp6bam"
      },
      "execution_count": null,
      "outputs": []
    },
    {
      "cell_type": "code",
      "source": [
        "model_train = modal_training(optimiser_fn = \"adam\" , num_epochs = 10, batch_size = 64, num_filters = [32,32,32,32,32], size_filter = [3,5,3,5,3],\n",
        "                   activation_fxn = \"elu\", num_neurons_dense = 512, batch_norm = False, dropout_prob = 0.2, weight_decay = 0.005, learning_rate = 1e-4)\n",
        "\n",
        "trainDataLoader, valDataLoader, testDataLoader = load_data(batchSize = 64)\n",
        "\n",
        "criterion = nn.CrossEntropyLoss()\n",
        "find_accuracy(model_train, criterion, valDataLoader, \"val\")\n",
        "find_accuracy(model_train, criterion, testDataLoader, \"test\")\n"
      ],
      "metadata": {
        "id": "AmtR-U7O002S"
      },
      "execution_count": null,
      "outputs": []
    },
    {
      "cell_type": "code",
      "source": [
        "model_train = modal_training(optimiser_fn = \"adam\" , num_epochs = 10, batch_size = 64, num_filters = [32,32,32,32,32], size_filter = [3,5,3,5,3],\n",
        "                   activation_fxn = \"selu\", num_neurons_dense = 512, batch_norm = False, dropout_prob = 0.2, weight_decay = 0.005, learning_rate = 1e-4)\n",
        "\n",
        "trainDataLoader, valDataLoader, testDataLoader = load_data( batchSize = 64)\n",
        "\n",
        "criterion = nn.CrossEntropyLoss()\n",
        "find_accuracy(model_train, criterion, valDataLoader, \"val\")\n",
        "find_accuracy(model_train, criterion, testDataLoader, \"test\")\n"
      ],
      "metadata": {
        "id": "wxJUcCq6B2Fy"
      },
      "execution_count": null,
      "outputs": []
    },
    {
      "cell_type": "code",
      "source": [
        "import torch\n",
        "import matplotlib.pyplot as plt\n",
        "import numpy as np\n",
        "\n",
        "classesList = [\"Amphibia\", \"Animalia\", \"Arachnida\", \"Aves\", \"Fungi\", \"Insecta\", \"Mammalia\", \"Mollusca\", \"Plantae\", \"Reptilia\"]\n",
        "\n",
        "\n",
        "model_train = modal_training(optimiser_fn = \"adam\" , num_epochs = 10, batch_size = 64, num_filters = [32,32,32,32,32], size_filter = [3,5,3,5,3],\n",
        "                   activation_fxn = \"elu\", num_neurons_dense = 512, batch_norm = False, dropout_prob = 0.2, weight_decay = 0.005, learning_rate = 1e-4)\n",
        "\n",
        "model_train.eval()  # Set the model to evaluation mode\n",
        "\n",
        "samples_per_class = {class_id: [] for class_id in range(10)}  # Assuming class IDs 0-9\n",
        "max_samples = 3\n",
        "\n",
        "with torch.no_grad():\n",
        "    for images, labels in valDataLoader:\n",
        "        if all(len(samples) >= max_samples for samples in samples_per_class.values()):\n",
        "            break  # Exit early if we have enough samples\n",
        "        for image, label in zip(images, labels):\n",
        "            label_item = label.item()\n",
        "            if len(samples_per_class[label_item]) < max_samples:\n",
        "                samples_per_class[label_item].append((image, model_train(image.unsqueeze(0)).argmax(1).item()))\n",
        "\n",
        "# Create the plot\n",
        "fig, axes = plt.subplots(10, 3, figsize=(10, 33))\n",
        "\n",
        "for class_id, samples in samples_per_class.items():\n",
        "    for i, (image, prediction) in enumerate(samples):\n",
        "        ax = axes[class_id, i]\n",
        "        # Convert image to numpy array and normalize\n",
        "        np_image = image.cpu().numpy().transpose((1, 2, 0))\n",
        "        mean = np.array([0.485, 0.456, 0.406])\n",
        "        std = np.array([0.229, 0.224, 0.225])\n",
        "        np_image = std * np_image + mean\n",
        "        np_image = np.clip(np_image, 0, 1)\n",
        "        ax.imshow(np_image)\n",
        "        ax.set_title(f'True_Label: {classesList[class_id]}, Pred: {classesList[prediction]}')\n",
        "        ax.axis('off')\n",
        "\n",
        "plt.tight_layout()\n",
        "\n",
        "\n",
        "plt.show()  # Show the plot in the output\n"
      ],
      "metadata": {
        "id": "I2D2u7E_n9Bi"
      },
      "execution_count": null,
      "outputs": []
    },
    {
      "cell_type": "code",
      "source": [
        "def main():\n",
        "    wandb.init(project=\"assignment_2\")\n",
        "    config = wandb.config\n",
        "    run_name = f\"{config.optimiser}_{config.activation}_{config.num_filters}_{config.batch_size}\"\n",
        "\n",
        "    # Set the run name\n",
        "    wandb.run.name = run_name\n",
        "    wandb.run.save()\n",
        "\n",
        "    # Define and train the model as before\n",
        "    modal_training(learning_rate = config.learning_rate, num_filters = config.num_filters,\n",
        "                size_filter = config.filter_sizes, activation_fxn = config.activation,\n",
        "                optimiser_fn = config.optimiser, num_neurons_dense = config.dense_layer,\n",
        "                weight_decay = config.weight_decay, dropout_prob = config.dropout, batch_norm = False,\n",
        "                batch_size = config.batch_size, num_epochs = 10)\n",
        "\n",
        "sweep_config = {\n",
        "    'method': 'bayes',\n",
        "    'name' : 'sweep cross entropy',\n",
        "    'metric': {\n",
        "      'name': 'validation_accuracy',\n",
        "      'goal': 'maximize'\n",
        "    },\n",
        "    'parameters': {\n",
        "        'num_filters': {\n",
        "          'values': [[32,32,32,32,32],[32,64,64,128,128],[128,128,64,64,32],[32,64,128,256,512],[128,128,128,128,128],[32,32,64,64,32,32,128,32]]\n",
        "        },\n",
        "        'filter_sizes': {\n",
        "          'values': [[3,3,3,3,3], [5,5,5,5,5], [3,5,3,5,3]]\n",
        "        },\n",
        "        'weight_decay': {\n",
        "            'values':[0, 0.0005, 0.5]\n",
        "        },\n",
        "        'learning_rate': {\n",
        "            'values':[1e-3,1e-4]\n",
        "        },\n",
        "        'weight_decay': {\n",
        "            'values': [0, 0.0005, 0.005]\n",
        "        },\n",
        "        'dropout': {\n",
        "            'values': [0, 0.2, 0.4]\n",
        "        },\n",
        "        'learning_rate': {\n",
        "            'values': [1e-3, 1e-4]\n",
        "        },\n",
        "        'activation': {\n",
        "            'values': ['relu', 'elu', 'selu']\n",
        "        },\n",
        "        'optimiser': {\n",
        "            'values': ['nadam', 'adam', 'rmsprop']\n",
        "        },\n",
        "        'batch_norm':{\n",
        "            'values': ['true','false']\n",
        "        },\n",
        "        'batch_size': {\n",
        "            'values': [32, 64]\n",
        "        },\n",
        "        'dense_layer':{\n",
        "            'values': [128, 256, 512]\n",
        "        }\n",
        "    }\n",
        "}\n",
        "\n",
        "\n",
        "sweep_id = wandb.sweep(sweep=sweep_config,project='assignment_2')\n",
        "wandb.agent(sweep_id , function = main , count =100)\n",
        "\n",
        "wandb.finish()"
      ],
      "metadata": {
        "colab": {
          "base_uri": "https://localhost:8080/",
          "height": 1000
        },
        "id": "tS-KdAuD7fn-",
        "outputId": "0447ecd1-e8f6-4d8e-9106-0b9b30d4f2fd"
      },
      "execution_count": null,
      "outputs": [
        {
          "output_type": "stream",
          "name": "stdout",
          "text": [
            "Create sweep with ID: z5c24qjb\n",
            "Sweep URL: https://wandb.ai/devyadav11/assignment_2/sweeps/z5c24qjb\n"
          ]
        },
        {
          "output_type": "stream",
          "name": "stderr",
          "text": [
            "\u001b[34m\u001b[1mwandb\u001b[0m: Agent Starting Run: rgq8iw6c with config:\n",
            "\u001b[34m\u001b[1mwandb\u001b[0m: \tactivation: selu\n",
            "\u001b[34m\u001b[1mwandb\u001b[0m: \tbatch_norm: true\n",
            "\u001b[34m\u001b[1mwandb\u001b[0m: \tbatch_size: 32\n",
            "\u001b[34m\u001b[1mwandb\u001b[0m: \tdense_layer: 256\n",
            "\u001b[34m\u001b[1mwandb\u001b[0m: \tdropout: 0\n",
            "\u001b[34m\u001b[1mwandb\u001b[0m: \tfilter_sizes: [3, 5, 3, 5, 3]\n",
            "\u001b[34m\u001b[1mwandb\u001b[0m: \tlearning_rate: 0.001\n",
            "\u001b[34m\u001b[1mwandb\u001b[0m: \tnum_filters: [32, 64, 64, 128, 128]\n",
            "\u001b[34m\u001b[1mwandb\u001b[0m: \toptimiser: rmsprop\n",
            "\u001b[34m\u001b[1mwandb\u001b[0m: \tweight_decay: 0.005\n"
          ]
        },
        {
          "output_type": "display_data",
          "data": {
            "text/plain": [
              "<IPython.core.display.HTML object>"
            ],
            "text/html": [
              "Ignoring project 'assignment_2' when running a sweep."
            ]
          },
          "metadata": {}
        },
        {
          "output_type": "display_data",
          "data": {
            "text/plain": [
              "<IPython.core.display.HTML object>"
            ],
            "text/html": [
              "Tracking run with wandb version 0.19.9"
            ]
          },
          "metadata": {}
        },
        {
          "output_type": "display_data",
          "data": {
            "text/plain": [
              "<IPython.core.display.HTML object>"
            ],
            "text/html": [
              "Run data is saved locally in <code>/content/wandb/run-20250421_114746-rgq8iw6c</code>"
            ]
          },
          "metadata": {}
        },
        {
          "output_type": "display_data",
          "data": {
            "text/plain": [
              "<IPython.core.display.HTML object>"
            ],
            "text/html": [
              "Syncing run <strong><a href='https://wandb.ai/devyadav11/assignment_2/runs/rgq8iw6c' target=\"_blank\">wandering-sweep-1</a></strong> to <a href='https://wandb.ai/devyadav11/assignment_2' target=\"_blank\">Weights & Biases</a> (<a href='https://wandb.me/developer-guide' target=\"_blank\">docs</a>)<br>Sweep page: <a href='https://wandb.ai/devyadav11/assignment_2/sweeps/z5c24qjb' target=\"_blank\">https://wandb.ai/devyadav11/assignment_2/sweeps/z5c24qjb</a>"
            ]
          },
          "metadata": {}
        },
        {
          "output_type": "display_data",
          "data": {
            "text/plain": [
              "<IPython.core.display.HTML object>"
            ],
            "text/html": [
              " View project at <a href='https://wandb.ai/devyadav11/assignment_2' target=\"_blank\">https://wandb.ai/devyadav11/assignment_2</a>"
            ]
          },
          "metadata": {}
        },
        {
          "output_type": "display_data",
          "data": {
            "text/plain": [
              "<IPython.core.display.HTML object>"
            ],
            "text/html": [
              " View sweep at <a href='https://wandb.ai/devyadav11/assignment_2/sweeps/z5c24qjb' target=\"_blank\">https://wandb.ai/devyadav11/assignment_2/sweeps/z5c24qjb</a>"
            ]
          },
          "metadata": {}
        },
        {
          "output_type": "display_data",
          "data": {
            "text/plain": [
              "<IPython.core.display.HTML object>"
            ],
            "text/html": [
              " View run at <a href='https://wandb.ai/devyadav11/assignment_2/runs/rgq8iw6c' target=\"_blank\">https://wandb.ai/devyadav11/assignment_2/runs/rgq8iw6c</a>"
            ]
          },
          "metadata": {}
        },
        {
          "output_type": "stream",
          "name": "stderr",
          "text": [
            "Training Progress 1: 100%|██████████| 250/250 [01:46<00:00,  2.36it/s]\n"
          ]
        },
        {
          "output_type": "stream",
          "name": "stdout",
          "text": [
            "train Loss: 2.3028246097564695,train Accuracy: 10.001250156269533%\n",
            "\n",
            "validation Loss: 2.3027961254119873,validation Accuracy: 10.0%\n",
            "\n"
          ]
        },
        {
          "output_type": "stream",
          "name": "stderr",
          "text": [
            "Training Progress 2: 100%|██████████| 250/250 [01:32<00:00,  2.70it/s]\n"
          ]
        },
        {
          "output_type": "stream",
          "name": "stdout",
          "text": [
            "train Loss: 2.3111176385879517,train Accuracy: 10.001250156269533%\n",
            "\n",
            "validation Loss: 2.3113477381448897,validation Accuracy: 10.0%\n",
            "\n"
          ]
        },
        {
          "output_type": "stream",
          "name": "stderr",
          "text": [
            "Training Progress 3: 100%|██████████| 250/250 [01:32<00:00,  2.71it/s]\n"
          ]
        },
        {
          "output_type": "stream",
          "name": "stdout",
          "text": [
            "train Loss: 2.3028029403686525,train Accuracy: 10.001250156269533%\n",
            "\n",
            "validation Loss: 2.302827134964958,validation Accuracy: 10.0%\n",
            "\n"
          ]
        },
        {
          "output_type": "stream",
          "name": "stderr",
          "text": [
            "Training Progress 4: 100%|██████████| 250/250 [01:33<00:00,  2.67it/s]\n"
          ]
        },
        {
          "output_type": "stream",
          "name": "stdout",
          "text": [
            "train Loss: 2.302759819984436,train Accuracy: 10.001250156269533%\n",
            "\n",
            "validation Loss: 2.302745614733015,validation Accuracy: 10.0%\n",
            "\n"
          ]
        },
        {
          "output_type": "stream",
          "name": "stderr",
          "text": [
            "Training Progress 5: 100%|██████████| 250/250 [01:36<00:00,  2.60it/s]\n"
          ]
        },
        {
          "output_type": "stream",
          "name": "stdout",
          "text": [
            "train Loss: 2.3026941270828245,train Accuracy: 10.001250156269533%\n",
            "\n",
            "validation Loss: 2.302670153360518,validation Accuracy: 10.0%\n",
            "\n"
          ]
        },
        {
          "output_type": "stream",
          "name": "stderr",
          "text": [
            "Training Progress 6: 100%|██████████| 250/250 [01:34<00:00,  2.65it/s]\n"
          ]
        },
        {
          "output_type": "stream",
          "name": "stdout",
          "text": [
            "train Loss: 2.3026619443893432,train Accuracy: 9.988748593574197%\n",
            "\n",
            "validation Loss: 2.3026591293395513,validation Accuracy: 10.0%\n",
            "\n"
          ]
        },
        {
          "output_type": "stream",
          "name": "stderr",
          "text": [
            "Training Progress 7: 100%|██████████| 250/250 [01:36<00:00,  2.59it/s]\n"
          ]
        },
        {
          "output_type": "stream",
          "name": "stdout",
          "text": [
            "train Loss: 2.350625235557556,train Accuracy: 10.001250156269533%\n",
            "\n",
            "validation Loss: 2.3510637623923167,validation Accuracy: 10.0%\n",
            "\n"
          ]
        },
        {
          "output_type": "stream",
          "name": "stderr",
          "text": [
            "Training Progress 8: 100%|██████████| 250/250 [01:32<00:00,  2.69it/s]\n"
          ]
        },
        {
          "output_type": "stream",
          "name": "stdout",
          "text": [
            "train Loss: 2.3025983991622927,train Accuracy: 10.001250156269533%\n",
            "\n",
            "validation Loss: 2.3026015153006902,validation Accuracy: 10.0%\n",
            "\n"
          ]
        },
        {
          "output_type": "stream",
          "name": "stderr",
          "text": [
            "Training Progress 9: 100%|██████████| 250/250 [01:32<00:00,  2.70it/s]\n"
          ]
        },
        {
          "output_type": "stream",
          "name": "stdout",
          "text": [
            "train Loss: 2.30259118270874,train Accuracy: 10.001250156269533%\n",
            "\n",
            "validation Loss: 2.3026003269922164,validation Accuracy: 10.0%\n",
            "\n"
          ]
        },
        {
          "output_type": "stream",
          "name": "stderr",
          "text": [
            "Training Progress 10: 100%|██████████| 250/250 [01:33<00:00,  2.69it/s]\n"
          ]
        },
        {
          "output_type": "stream",
          "name": "stdout",
          "text": [
            "train Loss: 2.302677617073059,train Accuracy: 10.001250156269533%\n",
            "\n",
            "validation Loss: 2.3026738772316584,validation Accuracy: 10.0%\n",
            "\n"
          ]
        },
        {
          "output_type": "display_data",
          "data": {
            "text/plain": [
              "<IPython.core.display.HTML object>"
            ],
            "text/html": []
          },
          "metadata": {}
        },
        {
          "output_type": "display_data",
          "data": {
            "text/plain": [
              "<IPython.core.display.HTML object>"
            ],
            "text/html": [
              "<br>    <style><br>        .wandb-row {<br>            display: flex;<br>            flex-direction: row;<br>            flex-wrap: wrap;<br>            justify-content: flex-start;<br>            width: 100%;<br>        }<br>        .wandb-col {<br>            display: flex;<br>            flex-direction: column;<br>            flex-basis: 100%;<br>            flex: 1;<br>            padding: 10px;<br>        }<br>    </style><br><div class=\"wandb-row\"><div class=\"wandb-col\"><h3>Run history:</h3><br/><table class=\"wandb\"><tr><td>train_accuracy</td><td>█████▁████</td></tr><tr><td>train_loss</td><td>▁▂▁▁▁▁█▁▁▁</td></tr><tr><td>validation_accuracy</td><td>▁▁▁▁▁▁▁▁▁▁</td></tr><tr><td>validation_loss</td><td>▁▂▁▁▁▁█▁▁▁</td></tr></table><br/></div><div class=\"wandb-col\"><h3>Run summary:</h3><br/><table class=\"wandb\"><tr><td>train_accuracy</td><td>10.00125</td></tr><tr><td>train_loss</td><td>2.30268</td></tr><tr><td>validation_accuracy</td><td>10</td></tr><tr><td>validation_loss</td><td>2.30267</td></tr></table><br/></div></div>"
            ]
          },
          "metadata": {}
        },
        {
          "output_type": "display_data",
          "data": {
            "text/plain": [
              "<IPython.core.display.HTML object>"
            ],
            "text/html": [
              " View run <strong style=\"color:#cdcd00\">rmsprop_selu_[32, 64, 64, 128, 128]_32</strong> at: <a href='https://wandb.ai/devyadav11/assignment_2/runs/rgq8iw6c' target=\"_blank\">https://wandb.ai/devyadav11/assignment_2/runs/rgq8iw6c</a><br> View project at: <a href='https://wandb.ai/devyadav11/assignment_2' target=\"_blank\">https://wandb.ai/devyadav11/assignment_2</a><br>Synced 5 W&B file(s), 0 media file(s), 0 artifact file(s) and 0 other file(s)"
            ]
          },
          "metadata": {}
        },
        {
          "output_type": "display_data",
          "data": {
            "text/plain": [
              "<IPython.core.display.HTML object>"
            ],
            "text/html": [
              "Find logs at: <code>./wandb/run-20250421_114746-rgq8iw6c/logs</code>"
            ]
          },
          "metadata": {}
        },
        {
          "output_type": "stream",
          "name": "stderr",
          "text": [
            "\u001b[34m\u001b[1mwandb\u001b[0m: Agent Starting Run: yrgmmqvr with config:\n",
            "\u001b[34m\u001b[1mwandb\u001b[0m: \tactivation: selu\n",
            "\u001b[34m\u001b[1mwandb\u001b[0m: \tbatch_norm: true\n",
            "\u001b[34m\u001b[1mwandb\u001b[0m: \tbatch_size: 32\n",
            "\u001b[34m\u001b[1mwandb\u001b[0m: \tdense_layer: 512\n",
            "\u001b[34m\u001b[1mwandb\u001b[0m: \tdropout: 0\n",
            "\u001b[34m\u001b[1mwandb\u001b[0m: \tfilter_sizes: [3, 3, 3, 3, 3]\n",
            "\u001b[34m\u001b[1mwandb\u001b[0m: \tlearning_rate: 0.0001\n",
            "\u001b[34m\u001b[1mwandb\u001b[0m: \tnum_filters: [32, 64, 64, 128, 128]\n",
            "\u001b[34m\u001b[1mwandb\u001b[0m: \toptimiser: nadam\n",
            "\u001b[34m\u001b[1mwandb\u001b[0m: \tweight_decay: 0.005\n"
          ]
        },
        {
          "output_type": "display_data",
          "data": {
            "text/plain": [
              "<IPython.core.display.HTML object>"
            ],
            "text/html": [
              "Ignoring project 'assignment_2' when running a sweep."
            ]
          },
          "metadata": {}
        },
        {
          "output_type": "display_data",
          "data": {
            "text/plain": [
              "<IPython.core.display.HTML object>"
            ],
            "text/html": [
              "Tracking run with wandb version 0.19.9"
            ]
          },
          "metadata": {}
        },
        {
          "output_type": "display_data",
          "data": {
            "text/plain": [
              "<IPython.core.display.HTML object>"
            ],
            "text/html": [
              "Run data is saved locally in <code>/content/wandb/run-20250421_122427-yrgmmqvr</code>"
            ]
          },
          "metadata": {}
        },
        {
          "output_type": "display_data",
          "data": {
            "text/plain": [
              "<IPython.core.display.HTML object>"
            ],
            "text/html": [
              "Syncing run <strong><a href='https://wandb.ai/devyadav11/assignment_2/runs/yrgmmqvr' target=\"_blank\">glorious-sweep-2</a></strong> to <a href='https://wandb.ai/devyadav11/assignment_2' target=\"_blank\">Weights & Biases</a> (<a href='https://wandb.me/developer-guide' target=\"_blank\">docs</a>)<br>Sweep page: <a href='https://wandb.ai/devyadav11/assignment_2/sweeps/z5c24qjb' target=\"_blank\">https://wandb.ai/devyadav11/assignment_2/sweeps/z5c24qjb</a>"
            ]
          },
          "metadata": {}
        },
        {
          "output_type": "display_data",
          "data": {
            "text/plain": [
              "<IPython.core.display.HTML object>"
            ],
            "text/html": [
              " View project at <a href='https://wandb.ai/devyadav11/assignment_2' target=\"_blank\">https://wandb.ai/devyadav11/assignment_2</a>"
            ]
          },
          "metadata": {}
        },
        {
          "output_type": "display_data",
          "data": {
            "text/plain": [
              "<IPython.core.display.HTML object>"
            ],
            "text/html": [
              " View sweep at <a href='https://wandb.ai/devyadav11/assignment_2/sweeps/z5c24qjb' target=\"_blank\">https://wandb.ai/devyadav11/assignment_2/sweeps/z5c24qjb</a>"
            ]
          },
          "metadata": {}
        },
        {
          "output_type": "display_data",
          "data": {
            "text/plain": [
              "<IPython.core.display.HTML object>"
            ],
            "text/html": [
              " View run at <a href='https://wandb.ai/devyadav11/assignment_2/runs/yrgmmqvr' target=\"_blank\">https://wandb.ai/devyadav11/assignment_2/runs/yrgmmqvr</a>"
            ]
          },
          "metadata": {}
        },
        {
          "output_type": "stream",
          "name": "stderr",
          "text": [
            "Training Progress 1: 100%|██████████| 250/250 [01:31<00:00,  2.74it/s]\n"
          ]
        },
        {
          "output_type": "stream",
          "name": "stdout",
          "text": [
            "train Loss: 2.3051434650421143,train Accuracy: 10.001250156269533%\n",
            "\n",
            "validation Loss: 2.305170399802072,validation Accuracy: 10.0%\n",
            "\n"
          ]
        },
        {
          "output_type": "stream",
          "name": "stderr",
          "text": [
            "Training Progress 2: 100%|██████████| 250/250 [01:32<00:00,  2.71it/s]\n"
          ]
        },
        {
          "output_type": "stream",
          "name": "stdout",
          "text": [
            "train Loss: 2.3050389099121094,train Accuracy: 9.988748593574197%\n",
            "\n",
            "validation Loss: 2.30506822419545,validation Accuracy: 10.0%\n",
            "\n"
          ]
        },
        {
          "output_type": "stream",
          "name": "stderr",
          "text": [
            "Training Progress 3: 100%|██████████| 250/250 [01:32<00:00,  2.70it/s]\n"
          ]
        },
        {
          "output_type": "stream",
          "name": "stdout",
          "text": [
            "train Loss: 2.3032346296310426,train Accuracy: 9.988748593574197%\n",
            "\n",
            "validation Loss: 2.303194939144074,validation Accuracy: 10.0%\n",
            "\n"
          ]
        },
        {
          "output_type": "stream",
          "name": "stderr",
          "text": [
            "Training Progress 4: 100%|██████████| 250/250 [01:32<00:00,  2.71it/s]\n"
          ]
        },
        {
          "output_type": "stream",
          "name": "stdout",
          "text": [
            "train Loss: 2.3029796562194824,train Accuracy: 10.001250156269533%\n",
            "\n",
            "validation Loss: 2.303004068041605,validation Accuracy: 10.0%\n",
            "\n"
          ]
        },
        {
          "output_type": "stream",
          "name": "stderr",
          "text": [
            "Training Progress 5: 100%|██████████| 250/250 [01:33<00:00,  2.68it/s]\n"
          ]
        },
        {
          "output_type": "stream",
          "name": "stdout",
          "text": [
            "train Loss: 2.3033051042556765,train Accuracy: 9.988748593574197%\n",
            "\n",
            "validation Loss: 2.3034243659367637,validation Accuracy: 10.0%\n",
            "\n"
          ]
        },
        {
          "output_type": "stream",
          "name": "stderr",
          "text": [
            "Training Progress 6: 100%|██████████| 250/250 [01:33<00:00,  2.68it/s]\n"
          ]
        },
        {
          "output_type": "stream",
          "name": "stdout",
          "text": [
            "train Loss: 2.304717619895935,train Accuracy: 10.001250156269533%\n",
            "\n",
            "validation Loss: 2.3047591958727156,validation Accuracy: 10.0%\n",
            "\n"
          ]
        },
        {
          "output_type": "stream",
          "name": "stderr",
          "text": [
            "Training Progress 7: 100%|██████████| 250/250 [01:33<00:00,  2.67it/s]\n"
          ]
        },
        {
          "output_type": "stream",
          "name": "stdout",
          "text": [
            "train Loss: 2.3028871488571165,train Accuracy: 10.001250156269533%\n",
            "\n",
            "validation Loss: 2.3028946339137972,validation Accuracy: 10.0%\n",
            "\n"
          ]
        },
        {
          "output_type": "stream",
          "name": "stderr",
          "text": [
            "Training Progress 8: 100%|██████████| 250/250 [01:32<00:00,  2.71it/s]\n"
          ]
        },
        {
          "output_type": "stream",
          "name": "stdout",
          "text": [
            "train Loss: 2.3086168031692504,train Accuracy: 10.001250156269533%\n",
            "\n",
            "validation Loss: 2.3083512101854597,validation Accuracy: 10.0%\n",
            "\n"
          ]
        },
        {
          "output_type": "stream",
          "name": "stderr",
          "text": [
            "Training Progress 9: 100%|██████████| 250/250 [01:31<00:00,  2.73it/s]\n"
          ]
        },
        {
          "output_type": "stream",
          "name": "stdout",
          "text": [
            "train Loss: 2.307862308502197,train Accuracy: 10.001250156269533%\n",
            "\n",
            "validation Loss: 2.3079678709544833,validation Accuracy: 10.0%\n",
            "\n"
          ]
        },
        {
          "output_type": "stream",
          "name": "stderr",
          "text": [
            "Training Progress 10: 100%|██████████| 250/250 [01:31<00:00,  2.74it/s]\n"
          ]
        },
        {
          "output_type": "stream",
          "name": "stdout",
          "text": [
            "train Loss: 2.303522102355957,train Accuracy: 10.001250156269533%\n",
            "\n",
            "validation Loss: 2.3035623610965787,validation Accuracy: 10.0%\n",
            "\n"
          ]
        },
        {
          "output_type": "display_data",
          "data": {
            "text/plain": [
              "<IPython.core.display.HTML object>"
            ],
            "text/html": []
          },
          "metadata": {}
        },
        {
          "output_type": "display_data",
          "data": {
            "text/plain": [
              "<IPython.core.display.HTML object>"
            ],
            "text/html": [
              "<br>    <style><br>        .wandb-row {<br>            display: flex;<br>            flex-direction: row;<br>            flex-wrap: wrap;<br>            justify-content: flex-start;<br>            width: 100%;<br>        }<br>        .wandb-col {<br>            display: flex;<br>            flex-direction: column;<br>            flex-basis: 100%;<br>            flex: 1;<br>            padding: 10px;<br>        }<br>    </style><br><div class=\"wandb-row\"><div class=\"wandb-col\"><h3>Run history:</h3><br/><table class=\"wandb\"><tr><td>train_accuracy</td><td>█▁▁█▁█████</td></tr><tr><td>train_loss</td><td>▄▄▁▁▂▃▁█▇▂</td></tr><tr><td>validation_accuracy</td><td>▁▁▁▁▁▁▁▁▁▁</td></tr><tr><td>validation_loss</td><td>▄▄▁▁▂▃▁██▂</td></tr></table><br/></div><div class=\"wandb-col\"><h3>Run summary:</h3><br/><table class=\"wandb\"><tr><td>train_accuracy</td><td>10.00125</td></tr><tr><td>train_loss</td><td>2.30352</td></tr><tr><td>validation_accuracy</td><td>10</td></tr><tr><td>validation_loss</td><td>2.30356</td></tr></table><br/></div></div>"
            ]
          },
          "metadata": {}
        },
        {
          "output_type": "display_data",
          "data": {
            "text/plain": [
              "<IPython.core.display.HTML object>"
            ],
            "text/html": [
              " View run <strong style=\"color:#cdcd00\">nadam_selu_[32, 64, 64, 128, 128]_32</strong> at: <a href='https://wandb.ai/devyadav11/assignment_2/runs/yrgmmqvr' target=\"_blank\">https://wandb.ai/devyadav11/assignment_2/runs/yrgmmqvr</a><br> View project at: <a href='https://wandb.ai/devyadav11/assignment_2' target=\"_blank\">https://wandb.ai/devyadav11/assignment_2</a><br>Synced 5 W&B file(s), 0 media file(s), 0 artifact file(s) and 0 other file(s)"
            ]
          },
          "metadata": {}
        },
        {
          "output_type": "display_data",
          "data": {
            "text/plain": [
              "<IPython.core.display.HTML object>"
            ],
            "text/html": [
              "Find logs at: <code>./wandb/run-20250421_122427-yrgmmqvr/logs</code>"
            ]
          },
          "metadata": {}
        },
        {
          "output_type": "stream",
          "name": "stderr",
          "text": [
            "\u001b[34m\u001b[1mwandb\u001b[0m: Agent Starting Run: nvi7wbn6 with config:\n",
            "\u001b[34m\u001b[1mwandb\u001b[0m: \tactivation: selu\n",
            "\u001b[34m\u001b[1mwandb\u001b[0m: \tbatch_norm: false\n",
            "\u001b[34m\u001b[1mwandb\u001b[0m: \tbatch_size: 64\n",
            "\u001b[34m\u001b[1mwandb\u001b[0m: \tdense_layer: 256\n",
            "\u001b[34m\u001b[1mwandb\u001b[0m: \tdropout: 0.4\n",
            "\u001b[34m\u001b[1mwandb\u001b[0m: \tfilter_sizes: [5, 5, 5, 5, 5]\n",
            "\u001b[34m\u001b[1mwandb\u001b[0m: \tlearning_rate: 0.001\n",
            "\u001b[34m\u001b[1mwandb\u001b[0m: \tnum_filters: [128, 128, 64, 64, 32]\n",
            "\u001b[34m\u001b[1mwandb\u001b[0m: \toptimiser: rmsprop\n",
            "\u001b[34m\u001b[1mwandb\u001b[0m: \tweight_decay: 0.0005\n"
          ]
        },
        {
          "output_type": "display_data",
          "data": {
            "text/plain": [
              "<IPython.core.display.HTML object>"
            ],
            "text/html": [
              "Ignoring project 'assignment_2' when running a sweep."
            ]
          },
          "metadata": {}
        },
        {
          "output_type": "display_data",
          "data": {
            "text/plain": [
              "<IPython.core.display.HTML object>"
            ],
            "text/html": [
              "Tracking run with wandb version 0.19.9"
            ]
          },
          "metadata": {}
        },
        {
          "output_type": "display_data",
          "data": {
            "text/plain": [
              "<IPython.core.display.HTML object>"
            ],
            "text/html": [
              "Run data is saved locally in <code>/content/wandb/run-20250421_125956-nvi7wbn6</code>"
            ]
          },
          "metadata": {}
        },
        {
          "output_type": "display_data",
          "data": {
            "text/plain": [
              "<IPython.core.display.HTML object>"
            ],
            "text/html": [
              "Syncing run <strong><a href='https://wandb.ai/devyadav11/assignment_2/runs/nvi7wbn6' target=\"_blank\">faithful-sweep-3</a></strong> to <a href='https://wandb.ai/devyadav11/assignment_2' target=\"_blank\">Weights & Biases</a> (<a href='https://wandb.me/developer-guide' target=\"_blank\">docs</a>)<br>Sweep page: <a href='https://wandb.ai/devyadav11/assignment_2/sweeps/z5c24qjb' target=\"_blank\">https://wandb.ai/devyadav11/assignment_2/sweeps/z5c24qjb</a>"
            ]
          },
          "metadata": {}
        },
        {
          "output_type": "display_data",
          "data": {
            "text/plain": [
              "<IPython.core.display.HTML object>"
            ],
            "text/html": [
              " View project at <a href='https://wandb.ai/devyadav11/assignment_2' target=\"_blank\">https://wandb.ai/devyadav11/assignment_2</a>"
            ]
          },
          "metadata": {}
        },
        {
          "output_type": "display_data",
          "data": {
            "text/plain": [
              "<IPython.core.display.HTML object>"
            ],
            "text/html": [
              " View sweep at <a href='https://wandb.ai/devyadav11/assignment_2/sweeps/z5c24qjb' target=\"_blank\">https://wandb.ai/devyadav11/assignment_2/sweeps/z5c24qjb</a>"
            ]
          },
          "metadata": {}
        },
        {
          "output_type": "display_data",
          "data": {
            "text/plain": [
              "<IPython.core.display.HTML object>"
            ],
            "text/html": [
              " View run at <a href='https://wandb.ai/devyadav11/assignment_2/runs/nvi7wbn6' target=\"_blank\">https://wandb.ai/devyadav11/assignment_2/runs/nvi7wbn6</a>"
            ]
          },
          "metadata": {}
        },
        {
          "output_type": "stream",
          "name": "stderr",
          "text": [
            "Training Progress 1: 100%|██████████| 125/125 [01:32<00:00,  1.35it/s]\n"
          ]
        },
        {
          "output_type": "stream",
          "name": "stdout",
          "text": [
            "train Loss: 2.3026930923461912,train Accuracy: 10.001250156269533%\n",
            "\n",
            "validation Loss: 2.3027734085917473,validation Accuracy: 10.0%\n",
            "\n"
          ]
        },
        {
          "output_type": "stream",
          "name": "stderr",
          "text": [
            "Training Progress 2: 100%|██████████| 125/125 [01:34<00:00,  1.33it/s]\n"
          ]
        },
        {
          "output_type": "stream",
          "name": "stdout",
          "text": [
            "train Loss: 2.302672576904297,train Accuracy: 10.001250156269533%\n",
            "\n",
            "validation Loss: 2.302768923342228,validation Accuracy: 10.0%\n",
            "\n"
          ]
        },
        {
          "output_type": "stream",
          "name": "stderr",
          "text": [
            "Training Progress 3: 100%|██████████| 125/125 [01:33<00:00,  1.33it/s]\n"
          ]
        },
        {
          "output_type": "stream",
          "name": "stdout",
          "text": [
            "train Loss: 2.316060749053955,train Accuracy: 10.001250156269533%\n",
            "\n",
            "validation Loss: 2.3168860599398613,validation Accuracy: 10.0%\n",
            "\n"
          ]
        },
        {
          "output_type": "stream",
          "name": "stderr",
          "text": [
            "Training Progress 4: 100%|██████████| 125/125 [01:33<00:00,  1.34it/s]\n"
          ]
        },
        {
          "output_type": "stream",
          "name": "stdout",
          "text": [
            "train Loss: 2.302669895172119,train Accuracy: 10.001250156269533%\n",
            "\n",
            "validation Loss: 2.302657373249531,validation Accuracy: 10.0%\n",
            "\n"
          ]
        },
        {
          "output_type": "stream",
          "name": "stderr",
          "text": [
            "Training Progress 5: 100%|██████████| 125/125 [01:34<00:00,  1.32it/s]\n"
          ]
        },
        {
          "output_type": "stream",
          "name": "stdout",
          "text": [
            "train Loss: 2.3338691082000733,train Accuracy: 10.001250156269533%\n",
            "\n",
            "validation Loss: 2.332232803106308,validation Accuracy: 10.0%\n",
            "\n"
          ]
        },
        {
          "output_type": "stream",
          "name": "stderr",
          "text": [
            "Training Progress 6: 100%|██████████| 125/125 [01:34<00:00,  1.32it/s]\n"
          ]
        },
        {
          "output_type": "stream",
          "name": "stdout",
          "text": [
            "train Loss: 2.302666925430298,train Accuracy: 10.001250156269533%\n",
            "\n",
            "validation Loss: 2.3026973456144333,validation Accuracy: 10.0%\n",
            "\n"
          ]
        },
        {
          "output_type": "stream",
          "name": "stderr",
          "text": [
            "Training Progress 7: 100%|██████████| 125/125 [01:34<00:00,  1.32it/s]\n"
          ]
        },
        {
          "output_type": "stream",
          "name": "stdout",
          "text": [
            "train Loss: 2.3108769092559815,train Accuracy: 10.001250156269533%\n",
            "\n",
            "validation Loss: 2.3101300597190857,validation Accuracy: 10.0%\n",
            "\n"
          ]
        },
        {
          "output_type": "stream",
          "name": "stderr",
          "text": [
            "Training Progress 8: 100%|██████████| 125/125 [01:35<00:00,  1.31it/s]\n"
          ]
        },
        {
          "output_type": "stream",
          "name": "stdout",
          "text": [
            "train Loss: 2.3026876583099365,train Accuracy: 10.001250156269533%\n",
            "\n",
            "validation Loss: 2.30267296731472,validation Accuracy: 10.0%\n",
            "\n"
          ]
        },
        {
          "output_type": "stream",
          "name": "stderr",
          "text": [
            "Training Progress 9: 100%|██████████| 125/125 [01:32<00:00,  1.35it/s]\n"
          ]
        },
        {
          "output_type": "stream",
          "name": "stdout",
          "text": [
            "train Loss: 2.3057299003601073,train Accuracy: 10.001250156269533%\n",
            "\n"
          ]
        }
      ]
    },
    {
      "cell_type": "code",
      "source": [],
      "metadata": {
        "id": "wIJ6dHhP8ouJ"
      },
      "execution_count": null,
      "outputs": []
    }
  ]
}