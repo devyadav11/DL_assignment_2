{
  "nbformat": 4,
  "nbformat_minor": 0,
  "metadata": {
    "colab": {
      "provenance": [],
      "authorship_tag": "ABX9TyMQTmuilI9pjll4oBclrmU0",
      "include_colab_link": true
    },
    "kernelspec": {
      "name": "python3",
      "display_name": "Python 3"
    },
    "language_info": {
      "name": "python"
    }
  },
  "cells": [
    {
      "cell_type": "markdown",
      "metadata": {
        "id": "view-in-github",
        "colab_type": "text"
      },
      "source": [
        "<a href=\"https://colab.research.google.com/github/devyadav11/DL_assignment_2/blob/main/DLAssignment_2.ipynb\" target=\"_parent\"><img src=\"https://colab.research.google.com/assets/colab-badge.svg\" alt=\"Open In Colab\"/></a>"
      ]
    },
    {
      "cell_type": "code",
      "source": [],
      "metadata": {
        "id": "58_eJy67iTqu"
      },
      "execution_count": null,
      "outputs": []
    },
    {
      "cell_type": "code",
      "execution_count": null,
      "metadata": {
        "id": "ZxC9cDHLg8kR"
      },
      "outputs": [],
      "source": [
        "import torch\n",
        "from torchvision import datasets, transforms\n",
        "from torch.utils.data import DataLoader, Subset\n",
        "import numpy as np\n",
        "from sklearn.utils import shuffle # for shuffling\n",
        "import os\n",
        "import cv2\n",
        "import random\n",
        "import torch.nn as nn\n",
        "import torch.optim as optim\n",
        "from tqdm import tqdm\n",
        "import matplotlib.pyplot as plt\n",
        "from PIL import Image\n",
        "\n",
        "\n",
        "\n",
        "from sklearn.model_selection import train_test_split"
      ]
    },
    {
      "cell_type": "code",
      "source": [
        "#!pip install wandb\n",
        "import wandb\n",
        "# !wandb login\n",
        "wandb.login(key=\"500727e3b54d5202c75cd3136d6326f29e89e05f\")\n",
        "\n",
        "#key = 500727e3b54d5202c75cd3136d6326f29e89e05f"
      ],
      "metadata": {
        "colab": {
          "base_uri": "https://localhost:8080/"
        },
        "id": "FaeaLTbjiSkf",
        "outputId": "50358f00-5e05-4eb5-9590-f3957dbb8e4e"
      },
      "execution_count": null,
      "outputs": [
        {
          "output_type": "stream",
          "name": "stderr",
          "text": [
            "\u001b[34m\u001b[1mwandb\u001b[0m: \u001b[33mWARNING\u001b[0m If you're specifying your api key in code, ensure this code is not shared publicly.\n",
            "\u001b[34m\u001b[1mwandb\u001b[0m: \u001b[33mWARNING\u001b[0m Consider setting the WANDB_API_KEY environment variable, or running `wandb login` from the command line.\n",
            "\u001b[34m\u001b[1mwandb\u001b[0m: Appending key for api.wandb.ai to your netrc file: /root/.netrc\n"
          ]
        },
        {
          "output_type": "execute_result",
          "data": {
            "text/plain": [
              "True"
            ]
          },
          "metadata": {},
          "execution_count": 17
        }
      ]
    },
    {
      "cell_type": "code",
      "source": [
        "# !wget https://storage.googleapis.com/wandb_datasets/nature_12K.zip -O nature_12K.zip\n"
      ],
      "metadata": {
        "colab": {
          "base_uri": "https://localhost:8080/"
        },
        "id": "tEWzL9rAn3od",
        "outputId": "52179304-9f9f-4aba-ea69-b8fdb8b3187d"
      },
      "execution_count": null,
      "outputs": [
        {
          "output_type": "stream",
          "name": "stdout",
          "text": [
            "--2025-04-07 16:50:21--  https://storage.googleapis.com/wandb_datasets/nature_12K.zip\n",
            "Resolving storage.googleapis.com (storage.googleapis.com)... 142.250.65.123, 172.217.15.251, 172.217.0.91, ...\n",
            "Connecting to storage.googleapis.com (storage.googleapis.com)|142.250.65.123|:443... connected.\n",
            "HTTP request sent, awaiting response... 200 OK\n",
            "Length: 3816687935 (3.6G) [application/zip]\n",
            "Saving to: ‘nature_12K.zip’\n",
            "\n",
            "nature_12K.zip      100%[===================>]   3.55G   229MB/s    in 25s     \n",
            "\n",
            "2025-04-07 16:50:46 (145 MB/s) - ‘nature_12K.zip’ saved [3816687935/3816687935]\n",
            "\n"
          ]
        }
      ]
    },
    {
      "cell_type": "code",
      "source": [
        "# !unzip -q nature_12K.zip"
      ],
      "metadata": {
        "id": "zwjjmnMmQavt"
      },
      "execution_count": null,
      "outputs": []
    },
    {
      "cell_type": "code",
      "source": [
        "# !rm nature_12K.zip"
      ],
      "metadata": {
        "id": "WGPZKCbEQe99"
      },
      "execution_count": null,
      "outputs": []
    },
    {
      "cell_type": "code",
      "source": [
        "# #dtype = torch.float\n",
        "# device = \"cuda\" if torch.cuda.is_available() else \"cpu\"\n",
        "\n",
        "# print(device)"
      ],
      "metadata": {
        "colab": {
          "base_uri": "https://localhost:8080/"
        },
        "id": "ZAYH2De_Qlad",
        "outputId": "f9aed4d1-76be-4bf6-e2e6-6fc64fe33917"
      },
      "execution_count": null,
      "outputs": [
        {
          "output_type": "stream",
          "name": "stdout",
          "text": [
            "cpu\n"
          ]
        }
      ]
    },
    {
      "cell_type": "code",
      "source": [
        "# dataset_path = \"/content/inaturalist_12K\""
      ],
      "metadata": {
        "id": "qKNXSulPUFn1"
      },
      "execution_count": null,
      "outputs": []
    },
    {
      "cell_type": "code",
      "source": [
        "image_hight = 256\n",
        "image_width = 256"
      ],
      "metadata": {
        "id": "hFHq27USXd56"
      },
      "execution_count": null,
      "outputs": []
    },
    {
      "cell_type": "code",
      "source": [
        "def load_data():\n",
        "  transform_data = transforms.Compose([ transforms.Resize((image_hight, image_width)), transforms.ToTensor(), transforms.Normalize((0.5,0.5,0.5), (0.5,0.5,0.5)) ])   # normalise = output = (input - mean) / std ) (convert to (-1 to 1)\n",
        "\n",
        "  train_data = datasets.ImageFolder(root = \"/content/inaturalist_12K/train\", transform=transform_data)\n",
        "\n",
        "  class_index = train_data.class_to_idx\n",
        "\n",
        "  training_data = []\n",
        "  val_data  = []\n",
        "\n",
        "  for train_input, train_index in train_data:\n",
        "    training_data.append((train_input, train_index))\n",
        "\n",
        "  training_data, val_data = train_test_split(training_data, test_size=0.2, random_state=42)\n",
        "\n",
        "\n",
        "\n",
        "\n",
        "\n",
        "\n",
        "  #(class_index)\n",
        "  print(val_data[0])\n",
        "\n",
        "\n",
        "\n",
        "  return  class_index\n",
        "\n",
        "\n"
      ],
      "metadata": {
        "id": "Rq_0jRlJjYfG"
      },
      "execution_count": null,
      "outputs": []
    },
    {
      "cell_type": "code",
      "source": [
        "print(load_data())"
      ],
      "metadata": {
        "colab": {
          "base_uri": "https://localhost:8080/"
        },
        "id": "ocq5I2j3ZxgK",
        "outputId": "a0072843-2e19-4feb-911e-2fb94820928a"
      },
      "execution_count": null,
      "outputs": [
        {
          "output_type": "stream",
          "name": "stdout",
          "text": [
            "(tensor([[[-0.7882, -0.7882, -0.7961,  ..., -0.8118, -0.7961, -0.7882],\n",
            "         [-0.8039, -0.7961, -0.8196,  ..., -0.8353, -0.8196, -0.8039],\n",
            "         [-0.8353, -0.8353, -0.8510,  ..., -0.8510, -0.8353, -0.8353],\n",
            "         ...,\n",
            "         [-0.1294, -0.1216, -0.1137,  ...,  0.4118, -0.0039,  0.3020],\n",
            "         [-0.1373, -0.1373, -0.1294,  ...,  0.4588,  0.2078,  0.4510],\n",
            "         [-0.1529, -0.1608, -0.1451,  ...,  0.5137,  0.3647,  0.5059]],\n",
            "\n",
            "        [[-0.6784, -0.6784, -0.6706,  ..., -0.6627, -0.6392, -0.6235],\n",
            "         [-0.7020, -0.6784, -0.6941,  ..., -0.7020, -0.6863, -0.6627],\n",
            "         [-0.7176, -0.7098, -0.7255,  ..., -0.7333, -0.7255, -0.7020],\n",
            "         ...,\n",
            "         [ 0.1843,  0.1922,  0.1922,  ...,  0.1686, -0.4353, -0.1137],\n",
            "         [ 0.1686,  0.1765,  0.1765,  ...,  0.2000, -0.2078,  0.1059],\n",
            "         [ 0.1529,  0.1529,  0.1686,  ...,  0.2392, -0.0510,  0.1608]],\n",
            "\n",
            "        [[-0.8745, -0.8745, -0.8745,  ..., -0.8902, -0.8902, -0.8824],\n",
            "         [-0.8980, -0.8824, -0.8980,  ..., -0.9059, -0.9059, -0.8980],\n",
            "         [-0.9216, -0.9137, -0.9216,  ..., -0.9373, -0.9373, -0.9373],\n",
            "         ...,\n",
            "         [-0.3412, -0.3333, -0.3176,  ...,  0.4902, -0.0275,  0.3490],\n",
            "         [-0.3569, -0.3490, -0.3490,  ...,  0.5059,  0.1529,  0.5373],\n",
            "         [-0.3804, -0.3725, -0.3725,  ...,  0.5294,  0.2549,  0.5686]]]), 5)\n",
            "{'Amphibia': 0, 'Animalia': 1, 'Arachnida': 2, 'Aves': 3, 'Fungi': 4, 'Insecta': 5, 'Mammalia': 6, 'Mollusca': 7, 'Plantae': 8, 'Reptilia': 9}\n"
          ]
        }
      ]
    },
    {
      "cell_type": "code",
      "source": [],
      "metadata": {
        "id": "xRu0ofJ3f7g2"
      },
      "execution_count": null,
      "outputs": []
    },
    {
      "cell_type": "code",
      "source": [
        "# transform = transforms.Compose([ transforms.Resize((256, 256)), transforms.ToTensor() ])\n"
      ],
      "metadata": {
        "id": "QEtx2aZGXnFH"
      },
      "execution_count": null,
      "outputs": []
    }
  ]
}