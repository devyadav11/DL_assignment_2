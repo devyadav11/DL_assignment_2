{
  "nbformat": 4,
  "nbformat_minor": 0,
  "metadata": {
    "colab": {
      "provenance": [],
      "authorship_tag": "ABX9TyMj2n0u/tI/Il3S1pkLCSid",
      "include_colab_link": true
    },
    "kernelspec": {
      "name": "python3",
      "display_name": "Python 3"
    },
    "language_info": {
      "name": "python"
    }
  },
  "cells": [
    {
      "cell_type": "markdown",
      "metadata": {
        "id": "view-in-github",
        "colab_type": "text"
      },
      "source": [
        "<a href=\"https://colab.research.google.com/github/devyadav11/DL_assignment_2/blob/main/DLAssignment_2.ipynb\" target=\"_parent\"><img src=\"https://colab.research.google.com/assets/colab-badge.svg\" alt=\"Open In Colab\"/></a>"
      ]
    },
    {
      "cell_type": "code",
      "source": [],
      "metadata": {
        "id": "58_eJy67iTqu"
      },
      "execution_count": 1,
      "outputs": []
    },
    {
      "cell_type": "code",
      "execution_count": 1,
      "metadata": {
        "id": "ZxC9cDHLg8kR"
      },
      "outputs": [],
      "source": [
        "import torch\n",
        "from torchvision import datasets, transforms\n",
        "from torch.utils.data import DataLoader, Subset\n",
        "import numpy as np\n",
        "from sklearn.utils import shuffle # for shuffling\n",
        "import os\n",
        "import cv2\n",
        "import random\n",
        "import torch.nn as nn\n",
        "import torch.optim as optim\n",
        "from tqdm import tqdm\n",
        "import matplotlib.pyplot as plt\n",
        "from PIL import Image\n",
        "\n",
        "\n",
        "\n",
        "from sklearn.model_selection import train_test_split"
      ]
    },
    {
      "cell_type": "code",
      "source": [
        "#!pip install wandb\n",
        "import wandb\n",
        "# !wandb login\n",
        "wandb.login(key=\"500727e3b54d5202c75cd3136d6326f29e89e05f\")\n",
        "\n",
        "#key = 500727e3b54d5202c75cd3136d6326f29e89e05f"
      ],
      "metadata": {
        "colab": {
          "base_uri": "https://localhost:8080/"
        },
        "id": "FaeaLTbjiSkf",
        "outputId": "02b6a6b8-094b-4bc4-c57d-059eae627773"
      },
      "execution_count": 2,
      "outputs": [
        {
          "output_type": "stream",
          "name": "stderr",
          "text": [
            "\u001b[34m\u001b[1mwandb\u001b[0m: Using wandb-core as the SDK backend.  Please refer to https://wandb.me/wandb-core for more information.\n",
            "\u001b[34m\u001b[1mwandb\u001b[0m: \u001b[33mWARNING\u001b[0m If you're specifying your api key in code, ensure this code is not shared publicly.\n",
            "\u001b[34m\u001b[1mwandb\u001b[0m: \u001b[33mWARNING\u001b[0m Consider setting the WANDB_API_KEY environment variable, or running `wandb login` from the command line.\n",
            "\u001b[34m\u001b[1mwandb\u001b[0m: No netrc file found, creating one.\n",
            "\u001b[34m\u001b[1mwandb\u001b[0m: Appending key for api.wandb.ai to your netrc file: /root/.netrc\n",
            "\u001b[34m\u001b[1mwandb\u001b[0m: Currently logged in as: \u001b[33mee23m074\u001b[0m (\u001b[33mdevyadav11\u001b[0m) to \u001b[32mhttps://api.wandb.ai\u001b[0m. Use \u001b[1m`wandb login --relogin`\u001b[0m to force relogin\n"
          ]
        },
        {
          "output_type": "execute_result",
          "data": {
            "text/plain": [
              "True"
            ]
          },
          "metadata": {},
          "execution_count": 2
        }
      ]
    },
    {
      "cell_type": "code",
      "source": [
        " !wget https://storage.googleapis.com/wandb_datasets/nature_12K.zip -O nature_12K.zip\n"
      ],
      "metadata": {
        "colab": {
          "base_uri": "https://localhost:8080/"
        },
        "id": "tEWzL9rAn3od",
        "outputId": "bba0dde8-c333-417f-a6b3-ad7170e8bdef"
      },
      "execution_count": 3,
      "outputs": [
        {
          "output_type": "stream",
          "name": "stdout",
          "text": [
            "--2025-04-08 16:19:07--  https://storage.googleapis.com/wandb_datasets/nature_12K.zip\n",
            "Resolving storage.googleapis.com (storage.googleapis.com)... 172.217.164.27, 172.217.0.91, 172.217.7.59, ...\n",
            "Connecting to storage.googleapis.com (storage.googleapis.com)|172.217.164.27|:443... connected.\n",
            "HTTP request sent, awaiting response... 200 OK\n",
            "Length: 3816687935 (3.6G) [application/zip]\n",
            "Saving to: ‘nature_12K.zip’\n",
            "\n",
            "nature_12K.zip      100%[===================>]   3.55G   111MB/s    in 50s     \n",
            "\n",
            "2025-04-08 16:19:58 (72.1 MB/s) - ‘nature_12K.zip’ saved [3816687935/3816687935]\n",
            "\n"
          ]
        }
      ]
    },
    {
      "cell_type": "code",
      "source": [
        " !unzip -q nature_12K.zip"
      ],
      "metadata": {
        "id": "zwjjmnMmQavt"
      },
      "execution_count": 4,
      "outputs": []
    },
    {
      "cell_type": "code",
      "source": [
        " !rm nature_12K.zip"
      ],
      "metadata": {
        "id": "WGPZKCbEQe99"
      },
      "execution_count": 5,
      "outputs": []
    },
    {
      "cell_type": "code",
      "source": [
        "dtype = torch.float\n",
        "device = \"cuda\" if torch.cuda.is_available() else \"cpu\"\n",
        "\n",
        "print(device)"
      ],
      "metadata": {
        "colab": {
          "base_uri": "https://localhost:8080/"
        },
        "id": "ZAYH2De_Qlad",
        "outputId": "b1613c45-59ec-4b49-9df9-4d0e27554592"
      },
      "execution_count": 6,
      "outputs": [
        {
          "output_type": "stream",
          "name": "stdout",
          "text": [
            "cpu\n"
          ]
        }
      ]
    },
    {
      "cell_type": "code",
      "source": [
        "# dataset_path = \"/content/inaturalist_12K\""
      ],
      "metadata": {
        "id": "qKNXSulPUFn1"
      },
      "execution_count": 7,
      "outputs": []
    },
    {
      "cell_type": "code",
      "source": [
        "image_hight = 256\n",
        "image_width = 256"
      ],
      "metadata": {
        "id": "hFHq27USXd56"
      },
      "execution_count": 7,
      "outputs": []
    },
    {
      "cell_type": "code",
      "source": [
        "def load_data(batchSize):\n",
        "  transform_data = transforms.Compose([ transforms.Resize((image_hight, image_width)), transforms.ToTensor(), transforms.Normalize((0.5,0.5,0.5), (0.5,0.5,0.5)) ])   # normalise = output = (input - mean) / std ) (convert to (-1 to 1)\n",
        "\n",
        "  train_data = datasets.ImageFolder(root = \"/content/inaturalist_12K/train\", transform=transform_data)\n",
        "\n",
        "  class_index = train_data.class_to_idx\n",
        "\n",
        "  training_idx = []\n",
        "  val_idx  = []\n",
        "\n",
        "  for train_class, train_index in class_index.items():\n",
        "    index = []\n",
        "    for k, (img_path, lable) in enumerate(train_data.samples):\n",
        "      if lable == train_index:\n",
        "        index.append(k)\n",
        "\n",
        "\n",
        "    train_indices, val_indices = train_test_split(index, test_size=0.2, random_state=42)\n",
        "    training_idx.extend(train_indices)           # extend creates a single flat list\n",
        "    val_idx.extend(val_indices)\n",
        "\n",
        "  training_data = Subset(train_data, training_idx)\n",
        "  val_data = Subset(train_data, val_idx)\n",
        "\n",
        "\n",
        "  #training_data, val_data = train_test_split(training_data, test_size=0.2, random_state=42)\n",
        "\n",
        "\n",
        "  #train_loader = DataLoader(training_data, batch_size=batchSize, shuffle=True, pin_memory= True )\n",
        "  #val_loader = DataLoader(val_data, batch_size=batchSize, shuffle=True, pin_memory= True)\n",
        "\n",
        "  test_data = datasets.ImageFolder(root = \"/content/inaturalist_12K/val\", transform=transform_data)\n",
        "  #test_laoder = DataLoader(test_data, batch_size=batchSize, shuffle=True, pin_memory= True)\n",
        "\n",
        "\n",
        "\n",
        "  return training_data, val_data, test_data\n",
        "\n",
        "\n",
        "\n",
        "\n",
        "\n",
        "\n",
        "\n",
        "\n",
        "\n",
        "\n",
        "  #return  class_index\n",
        "\n",
        "\n"
      ],
      "metadata": {
        "id": "Rq_0jRlJjYfG"
      },
      "execution_count": 15,
      "outputs": []
    },
    {
      "cell_type": "code",
      "source": [],
      "metadata": {
        "id": "ocq5I2j3ZxgK"
      },
      "execution_count": 23,
      "outputs": []
    },
    {
      "cell_type": "code",
      "source": [],
      "metadata": {
        "id": "Vx710WoMJ-Hq"
      },
      "execution_count": null,
      "outputs": []
    },
    {
      "cell_type": "code",
      "source": [],
      "metadata": {
        "id": "xRu0ofJ3f7g2"
      },
      "execution_count": null,
      "outputs": []
    },
    {
      "cell_type": "code",
      "source": [
        "# transform = transforms.Compose([ transforms.Resize((256, 256)), transforms.ToTensor() ])\n"
      ],
      "metadata": {
        "id": "QEtx2aZGXnFH"
      },
      "execution_count": null,
      "outputs": []
    }
  ]
}